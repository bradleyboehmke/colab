{
  "nbformat": 4,
  "nbformat_minor": 0,
  "metadata": {
    "kernelspec": {
      "display_name": "R",
      "language": "R",
      "name": "ir"
    },
    "language_info": {
      "codemirror_mode": "r",
      "file_extension": ".r",
      "mimetype": "text/x-r-source",
      "name": "R",
      "pygments_lexer": "r",
      "version": "3.3.1"
    },
    "colab": {
      "name": "Copy of Demo.ipynb",
      "provenance": [],
      "include_colab_link": true
    },
    "accelerator": "GPU"
  },
  "cells": [
    {
      "cell_type": "markdown",
      "metadata": {
        "id": "view-in-github",
        "colab_type": "text"
      },
      "source": [
        "<a href=\"https://colab.research.google.com/github/bradleyboehmke/colab/blob/master/lstm-quora-similarity.ipynb\" target=\"_parent\"><img src=\"https://colab.research.google.com/assets/colab-badge.svg\" alt=\"Open In Colab\"/></a>"
      ]
    },
    {
      "cell_type": "code",
      "metadata": {
        "id": "UBpD2M9ssn2R",
        "colab_type": "code",
        "colab": {
          "base_uri": "https://localhost:8080/",
          "height": 119
        },
        "outputId": "06e88eb8-992b-4395-afbf-b93c58c390fe"
      },
      "source": [
        "install.packages(c('keras', 'tidyverse'))"
      ],
      "execution_count": 1,
      "outputs": [
        {
          "output_type": "stream",
          "text": [
            "Installing packages into ‘/usr/local/lib/R/site-library’\n",
            "(as ‘lib’ is unspecified)\n",
            "\n",
            "also installing the dependencies ‘rappdirs’, ‘config’, ‘reticulate’, ‘tensorflow’, ‘tfruns’\n",
            "\n",
            "\n"
          ],
          "name": "stderr"
        }
      ]
    },
    {
      "cell_type": "code",
      "metadata": {
        "id": "0daCbCqDstul",
        "colab_type": "code",
        "colab": {
          "base_uri": "https://localhost:8080/",
          "height": 204
        },
        "outputId": "e3050c11-f255-4dbf-b95e-a6575edf2704"
      },
      "source": [
        "library(keras)\n",
        "library(tidyverse)"
      ],
      "execution_count": 2,
      "outputs": [
        {
          "output_type": "stream",
          "text": [
            "── \u001b[1mAttaching packages\u001b[22m ─────────────────────────────────────── tidyverse 1.3.0 ──\n",
            "\n",
            "\u001b[32m✔\u001b[39m \u001b[34mggplot2\u001b[39m 3.2.1     \u001b[32m✔\u001b[39m \u001b[34mpurrr  \u001b[39m 0.3.3\n",
            "\u001b[32m✔\u001b[39m \u001b[34mtibble \u001b[39m 2.1.3     \u001b[32m✔\u001b[39m \u001b[34mdplyr  \u001b[39m 0.8.3\n",
            "\u001b[32m✔\u001b[39m \u001b[34mtidyr  \u001b[39m 1.0.0     \u001b[32m✔\u001b[39m \u001b[34mstringr\u001b[39m 1.4.0\n",
            "\u001b[32m✔\u001b[39m \u001b[34mreadr  \u001b[39m 1.3.1     \u001b[32m✔\u001b[39m \u001b[34mforcats\u001b[39m 0.4.0\n",
            "\n",
            "── \u001b[1mConflicts\u001b[22m ────────────────────────────────────────── tidyverse_conflicts() ──\n",
            "\u001b[31m✖\u001b[39m \u001b[34mdplyr\u001b[39m::\u001b[32mfilter()\u001b[39m masks \u001b[34mstats\u001b[39m::filter()\n",
            "\u001b[31m✖\u001b[39m \u001b[34mdplyr\u001b[39m::\u001b[32mlag()\u001b[39m    masks \u001b[34mstats\u001b[39m::lag()\n",
            "\n"
          ],
          "name": "stderr"
        }
      ]
    },
    {
      "cell_type": "code",
      "metadata": {
        "id": "yI8aG4oos9z3",
        "colab_type": "code",
        "colab": {}
      },
      "source": [
        "quora_data <- get_file(\n",
        "  \"quora_duplicate_questions.tsv\",\n",
        "  \"http://qim.fs.quoracdn.net/quora_duplicate_questions.tsv\"\n",
        ")"
      ],
      "execution_count": 0,
      "outputs": []
    },
    {
      "cell_type": "code",
      "metadata": {
        "id": "vyBr8A7atEA7",
        "colab_type": "code",
        "colab": {
          "base_uri": "https://localhost:8080/",
          "height": 476
        },
        "outputId": "212e6308-b479-4878-a04a-c9b76a8506ff"
      },
      "source": [
        "df <- read_tsv(quora_data)\n",
        "head(df)"
      ],
      "execution_count": 4,
      "outputs": [
        {
          "output_type": "stream",
          "text": [
            "Parsed with column specification:\n",
            "cols(\n",
            "  id = \u001b[32mcol_double()\u001b[39m,\n",
            "  qid1 = \u001b[32mcol_double()\u001b[39m,\n",
            "  qid2 = \u001b[32mcol_double()\u001b[39m,\n",
            "  question1 = \u001b[31mcol_character()\u001b[39m,\n",
            "  question2 = \u001b[31mcol_character()\u001b[39m,\n",
            "  is_duplicate = \u001b[32mcol_double()\u001b[39m\n",
            ")\n",
            "\n"
          ],
          "name": "stderr"
        },
        {
          "output_type": "display_data",
          "data": {
            "text/plain": [
              "  id qid1 qid2\n",
              "1 0   1    2  \n",
              "2 1   3    4  \n",
              "3 2   5    6  \n",
              "4 3   7    8  \n",
              "5 4   9   10  \n",
              "6 5  11   12  \n",
              "  question1                                                                             \n",
              "1 What is the step by step guide to invest in share market in india?                    \n",
              "2 What is the story of Kohinoor (Koh-i-Noor) Diamond?                                   \n",
              "3 How can I increase the speed of my internet connection while using a VPN?             \n",
              "4 Why am I mentally very lonely? How can I solve it?                                    \n",
              "5 Which one dissolve in water quikly sugar, salt, methane and carbon di oxide?          \n",
              "6 Astrology: I am a Capricorn Sun Cap moon and cap rising...what does that say about me?\n",
              "  question2                                                                                 \n",
              "1 What is the step by step guide to invest in share market?                                 \n",
              "2 What would happen if the Indian government stole the Kohinoor (Koh-i-Noor) diamond back?  \n",
              "3 How can Internet speed be increased by hacking through DNS?                               \n",
              "4 Find the remainder when [math]23^{24}[/math] is divided by 24,23?                         \n",
              "5 Which fish would survive in salt water?                                                   \n",
              "6 I'm a triple Capricorn (Sun, Moon and ascendant in Capricorn) What does this say about me?\n",
              "  is_duplicate\n",
              "1 0           \n",
              "2 0           \n",
              "3 0           \n",
              "4 0           \n",
              "5 0           \n",
              "6 1           "
            ],
            "text/latex": "A tibble: 6 × 6\n\\begin{tabular}{r|llllll}\n id & qid1 & qid2 & question1 & question2 & is\\_duplicate\\\\\n <dbl> & <dbl> & <dbl> & <chr> & <chr> & <dbl>\\\\\n\\hline\n\t 0 &  1 &  2 & What is the step by step guide to invest in share market in india?                     & What is the step by step guide to invest in share market?                                  & 0\\\\\n\t 1 &  3 &  4 & What is the story of Kohinoor (Koh-i-Noor) Diamond?                                    & What would happen if the Indian government stole the Kohinoor (Koh-i-Noor) diamond back?   & 0\\\\\n\t 2 &  5 &  6 & How can I increase the speed of my internet connection while using a VPN?              & How can Internet speed be increased by hacking through DNS?                                & 0\\\\\n\t 3 &  7 &  8 & Why am I mentally very lonely? How can I solve it?                                     & Find the remainder when {[}math{]}23\\textasciicircum{}\\{24\\}{[}/math{]} is divided by 24,23?                          & 0\\\\\n\t 4 &  9 & 10 & Which one dissolve in water quikly sugar, salt, methane and carbon di oxide?           & Which fish would survive in salt water?                                                    & 0\\\\\n\t 5 & 11 & 12 & Astrology: I am a Capricorn Sun Cap moon and cap rising...what does that say about me? & I'm a triple Capricorn (Sun, Moon and ascendant in Capricorn) What does this say about me? & 1\\\\\n\\end{tabular}\n",
            "text/markdown": "\nA tibble: 6 × 6\n\n| id &lt;dbl&gt; | qid1 &lt;dbl&gt; | qid2 &lt;dbl&gt; | question1 &lt;chr&gt; | question2 &lt;chr&gt; | is_duplicate &lt;dbl&gt; |\n|---|---|---|---|---|---|\n| 0 |  1 |  2 | What is the step by step guide to invest in share market in india?                     | What is the step by step guide to invest in share market?                                  | 0 |\n| 1 |  3 |  4 | What is the story of Kohinoor (Koh-i-Noor) Diamond?                                    | What would happen if the Indian government stole the Kohinoor (Koh-i-Noor) diamond back?   | 0 |\n| 2 |  5 |  6 | How can I increase the speed of my internet connection while using a VPN?              | How can Internet speed be increased by hacking through DNS?                                | 0 |\n| 3 |  7 |  8 | Why am I mentally very lonely? How can I solve it?                                     | Find the remainder when [math]23^{24}[/math] is divided by 24,23?                          | 0 |\n| 4 |  9 | 10 | Which one dissolve in water quikly sugar, salt, methane and carbon di oxide?           | Which fish would survive in salt water?                                                    | 0 |\n| 5 | 11 | 12 | Astrology: I am a Capricorn Sun Cap moon and cap rising...what does that say about me? | I'm a triple Capricorn (Sun, Moon and ascendant in Capricorn) What does this say about me? | 1 |\n\n",
            "text/html": [
              "<table>\n",
              "<caption>A tibble: 6 × 6</caption>\n",
              "<thead>\n",
              "\t<tr><th scope=col>id</th><th scope=col>qid1</th><th scope=col>qid2</th><th scope=col>question1</th><th scope=col>question2</th><th scope=col>is_duplicate</th></tr>\n",
              "\t<tr><th scope=col>&lt;dbl&gt;</th><th scope=col>&lt;dbl&gt;</th><th scope=col>&lt;dbl&gt;</th><th scope=col>&lt;chr&gt;</th><th scope=col>&lt;chr&gt;</th><th scope=col>&lt;dbl&gt;</th></tr>\n",
              "</thead>\n",
              "<tbody>\n",
              "\t<tr><td>0</td><td> 1</td><td> 2</td><td>What is the step by step guide to invest in share market in india?                    </td><td>What is the step by step guide to invest in share market?                                 </td><td>0</td></tr>\n",
              "\t<tr><td>1</td><td> 3</td><td> 4</td><td>What is the story of Kohinoor (Koh-i-Noor) Diamond?                                   </td><td>What would happen if the Indian government stole the Kohinoor (Koh-i-Noor) diamond back?  </td><td>0</td></tr>\n",
              "\t<tr><td>2</td><td> 5</td><td> 6</td><td>How can I increase the speed of my internet connection while using a VPN?             </td><td>How can Internet speed be increased by hacking through DNS?                               </td><td>0</td></tr>\n",
              "\t<tr><td>3</td><td> 7</td><td> 8</td><td>Why am I mentally very lonely? How can I solve it?                                    </td><td>Find the remainder when [math]23^{24}[/math] is divided by 24,23?                         </td><td>0</td></tr>\n",
              "\t<tr><td>4</td><td> 9</td><td>10</td><td>Which one dissolve in water quikly sugar, salt, methane and carbon di oxide?          </td><td>Which fish would survive in salt water?                                                   </td><td>0</td></tr>\n",
              "\t<tr><td>5</td><td>11</td><td>12</td><td>Astrology: I am a Capricorn Sun Cap moon and cap rising...what does that say about me?</td><td>I'm a triple Capricorn (Sun, Moon and ascendant in Capricorn) What does this say about me?</td><td>1</td></tr>\n",
              "</tbody>\n",
              "</table>\n"
            ]
          },
          "metadata": {
            "tags": []
          }
        }
      ]
    },
    {
      "cell_type": "code",
      "metadata": {
        "id": "uHXGXCbstHkC",
        "colab_type": "code",
        "colab": {}
      },
      "source": [
        "vocab_size <- 50000\n",
        "max_len <- 20\n",
        "embedding_size <- 256\n",
        "seq_embedding_size <- 512"
      ],
      "execution_count": 0,
      "outputs": []
    },
    {
      "cell_type": "code",
      "metadata": {
        "id": "Bg_y96iNtKMp",
        "colab_type": "code",
        "colab": {}
      },
      "source": [
        "tokenizer <- text_tokenizer(num_words = vocab_size)\n",
        "fit_text_tokenizer(tokenizer, x = c(df$question1, df$question2))\n",
        "\n",
        "question1 <- texts_to_sequences(tokenizer, df$question1)\n",
        "question2 <- texts_to_sequences(tokenizer, df$question2)\n",
        "\n",
        "question1 <- pad_sequences(question1, maxlen = max_len, value = vocab_size + 1)\n",
        "question2 <- pad_sequences(question2, maxlen = max_len, value = vocab_size + 1)"
      ],
      "execution_count": 0,
      "outputs": []
    },
    {
      "cell_type": "code",
      "metadata": {
        "id": "zwg9548KtKi8",
        "colab_type": "code",
        "colab": {
          "base_uri": "https://localhost:8080/",
          "height": 408
        },
        "outputId": "3e10d5b3-2b1a-4db4-c5c9-f50a3a3dca31"
      },
      "source": [
        "input1 <- layer_input(shape = c(max_len))\n",
        "input2 <- layer_input(shape = c(max_len))\n",
        "\n",
        "embedding <- layer_embedding(\n",
        "  input_dim = vocab_size + 2, \n",
        "  output_dim = embedding_size, \n",
        "  input_length = max_len, \n",
        "  embeddings_regularizer = regularizer_l2(l = 0.0001)\n",
        ")\n",
        "seq_emb <- layer_lstm(\n",
        "  units = seq_embedding_size, \n",
        "  recurrent_regularizer = regularizer_l2(l = 0.0001)\n",
        ")\n",
        "\n",
        "vector1 <- embedding(input1) %>%\n",
        "  seq_emb()\n",
        "vector2 <- embedding(input2) %>%\n",
        "  seq_emb()\n",
        "\n",
        "out <- layer_dot(list(vector1, vector2), axes = 1) %>%\n",
        "  layer_dense(1, activation = \"sigmoid\")\n",
        "\n",
        "model <- keras_model(list(input1, input2), out)\n",
        "model %>% compile(\n",
        "  optimizer = \"adam\", \n",
        "  loss = \"binary_crossentropy\", \n",
        "  metrics = \"accuracy\"\n",
        ")\n",
        "\n",
        "summary(model)"
      ],
      "execution_count": 16,
      "outputs": [
        {
          "output_type": "stream",
          "text": [
            "Model: \"model_2\"\n",
            "________________________________________________________________________________\n",
            "Layer (type)              Output Shape      Param #  Connected to               \n",
            "================================================================================\n",
            "input_5 (InputLayer)      [(None, 20)]      0                                   \n",
            "________________________________________________________________________________\n",
            "input_6 (InputLayer)      [(None, 20)]      0                                   \n",
            "________________________________________________________________________________\n",
            "embedding_2 (Embedding)   (None, 20, 256)   12800512 input_5[0][0]              \n",
            "                                                     input_6[0][0]              \n",
            "________________________________________________________________________________\n",
            "lstm_2 (LSTM)             (None, 512)       1574912  embedding_2[0][0]          \n",
            "                                                     embedding_2[1][0]          \n",
            "________________________________________________________________________________\n",
            "dot_2 (Dot)               (None, 1)         0        lstm_2[0][0]               \n",
            "                                                     lstm_2[1][0]               \n",
            "________________________________________________________________________________\n",
            "dense_2 (Dense)           (None, 1)         2        dot_2[0][0]                \n",
            "================================================================================\n",
            "Total params: 14,375,426\n",
            "Trainable params: 14,375,426\n",
            "Non-trainable params: 0\n",
            "________________________________________________________________________________\n"
          ],
          "name": "stdout"
        }
      ]
    },
    {
      "cell_type": "code",
      "metadata": {
        "id": "7VcgjIaPtLPx",
        "colab_type": "code",
        "colab": {
          "base_uri": "https://localhost:8080/",
          "height": 34
        },
        "outputId": "1bdadc1c-e5b7-495c-9c8b-079ff85e36fb"
      },
      "source": [
        "start <- Sys.time()\n",
        "\n",
        "set.seed(1817328)\n",
        "val_sample <- sample.int(nrow(question1), size = 0.1*nrow(question1))\n",
        "\n",
        "history <- model %>%\n",
        "  fit(\n",
        "    list(question1[-val_sample,], question2[-val_sample,]),\n",
        "    df$is_duplicate[-val_sample], \n",
        "    batch_size = 128, \n",
        "    epochs = 30, \n",
        "    validation_data = list(\n",
        "      list(question1[val_sample,], question2[val_sample,]), df$is_duplicate[val_sample]\n",
        "    ),\n",
        "    callbacks = list(\n",
        "      callback_early_stopping(patience = 5),\n",
        "      callback_reduce_lr_on_plateau(patience = 3)\n",
        "    )\n",
        "  )\n",
        "\n",
        "end <- Sys.time()\n",
        "end - start"
      ],
      "execution_count": 17,
      "outputs": [
        {
          "output_type": "display_data",
          "data": {
            "text/plain": [
              "Time difference of 57.80711 mins"
            ]
          },
          "metadata": {
            "tags": []
          }
        }
      ]
    },
    {
      "cell_type": "code",
      "metadata": {
        "id": "7Nksj6QWterf",
        "colab_type": "code",
        "colab": {
          "base_uri": "https://localhost:8080/",
          "height": 437
        },
        "outputId": "f7f195ba-c2b4-48c2-c941-6ec983f447e4"
      },
      "source": [
        "plot(history)"
      ],
      "execution_count": 18,
      "outputs": [
        {
          "output_type": "display_data",
          "data": {
            "image/png": "[encoded data removed]",
            "text/plain": [
              "plot without title"
            ]
          },
          "metadata": {
            "tags": [],
            "image/png": {
              "width": 420,
              "height": 420
            },
            "text/plain": {
              "width": 420,
              "height": 420
            }
          }
        }
      ]
    },
    {
      "cell_type": "code",
      "metadata": {
        "id": "9rcDBD8lRr71",
        "colab_type": "code",
        "colab": {
          "base_uri": "https://localhost:8080/",
          "height": 34
        },
        "outputId": "4bea8d8b-7a2b-49cc-bf36-718495cf322c"
      },
      "source": [
        "best_epoch <- which(history$metrics$val_loss == min(history$metrics$val_loss))\n",
        "loss <- history$metrics$val_loss[best_epoch] %>% round(3)\n",
        "acc <- history$metrics$val_acc[best_epoch] %>% round(3)\n",
        "\n",
        "glue::glue(\"The best epoch had a loss of {loss} and an accuracy of {acc}\")"
      ],
      "execution_count": 21,
      "outputs": [
        {
          "output_type": "display_data",
          "data": {
            "text/plain": [
              "The best epoch had a loss of 0.527 and an accuracy of 0.772"
            ],
            "text/latex": "'The best epoch had a loss of 0.527 and an accuracy of 0.772'",
            "text/markdown": "'The best epoch had a loss of 0.527 and an accuracy of 0.772'",
            "text/html": [
              "'The best epoch had a loss of 0.527 and an accuracy of 0.772'"
            ]
          },
          "metadata": {
            "tags": []
          }
        }
      ]
    }
  ]
}